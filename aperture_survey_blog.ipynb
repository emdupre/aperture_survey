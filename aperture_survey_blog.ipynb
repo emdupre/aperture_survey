{
 "cells": [
  {
   "cell_type": "code",
   "execution_count": null,
   "metadata": {},
   "outputs": [],
   "source": [
    "import numpy as np\n",
    "import pandas as pd\n",
    "\n",
    "df = pd.read_csv('aperture_survey_responses.tsv', sep='\\t')"
   ]
  },
  {
   "cell_type": "code",
   "execution_count": null,
   "metadata": {},
   "outputs": [],
   "source": [
    "# flatten SurveyMonkey response nesting -- adapted from https://stackoverflow.com/a/49584888\n",
    "def parse_response(s):\n",
    "    try:\n",
    "        return s[~s.isnull()][0]\n",
    "    except IndexError:\n",
    "        return np.nan\n",
    "\n",
    "indices = [i for i, c in enumerate(df.columns) if not c.startswith('Unnamed')]\n",
    "slices = [slice(i, j) for i, j in zip(indices, indices[1:] + [None])]\n",
    "repeats = [len(range(*slice.indices(len(df.columns)))) for slice in slices]"
   ]
  },
  {
   "cell_type": "code",
   "execution_count": null,
   "metadata": {},
   "outputs": [],
   "source": [
    "questions = [c for c in df.columns if not c.startswith('Unnamed')]\n",
    "options = df.iloc[:1].values[0].tolist()\n",
    "\n",
    "matched_questions = []\n",
    "for index, question in enumerate(questions):\n",
    "    matched_questions += [question] * repeats[index] "
   ]
  },
  {
   "cell_type": "code",
   "execution_count": null,
   "metadata": {},
   "outputs": [],
   "source": [
    "# data = [df.iloc[:, q].apply(parse_response, axis=1)[1:] for q in slices]\n",
    "# df = pd.concat(data, axis=1)\n",
    "# df.columns = questions"
   ]
  },
  {
   "cell_type": "code",
   "execution_count": null,
   "metadata": {},
   "outputs": [],
   "source": []
  },
  {
   "cell_type": "code",
   "execution_count": null,
   "metadata": {},
   "outputs": [],
   "source": []
  },
  {
   "cell_type": "code",
   "execution_count": null,
   "metadata": {},
   "outputs": [],
   "source": []
  },
  {
   "cell_type": "code",
   "execution_count": null,
   "metadata": {},
   "outputs": [],
   "source": []
  },
  {
   "cell_type": "code",
   "execution_count": null,
   "metadata": {},
   "outputs": [],
   "source": []
  }
 ],
 "metadata": {
  "kernelspec": {
   "display_name": "Python 3",
   "language": "python",
   "name": "python3"
  },
  "language_info": {
   "codemirror_mode": {
    "name": "ipython",
    "version": 3
   },
   "file_extension": ".py",
   "mimetype": "text/x-python",
   "name": "python",
   "nbconvert_exporter": "python",
   "pygments_lexer": "ipython3",
   "version": "3.6.8"
  }
 },
 "nbformat": 4,
 "nbformat_minor": 2
}
