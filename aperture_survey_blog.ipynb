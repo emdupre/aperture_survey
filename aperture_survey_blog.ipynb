{
 "cells": [
  {
   "cell_type": "code",
   "execution_count": null,
   "metadata": {},
   "outputs": [],
   "source": [
    "# Initial imports and loading in our data.\n",
    "# This is (almost) direct from SurveyMonkey, though\n",
    "# I scrubbed IP addresses and access dates to anonymize.\n",
    "import numpy as np\n",
    "import pandas as pd\n",
    "\n",
    "df = pd.read_csv('aperture_survey_responses.tsv', sep='\\t')"
   ]
  },
  {
   "cell_type": "code",
   "execution_count": null,
   "metadata": {},
   "outputs": [],
   "source": [
    "# SurveyMonkey provides an odd nesting of responses when exporting results.\n",
    "# We'd like to convert this structure to a pandas MultiIndex data frame.\n",
    "# First, let's find question indices -- adapted from https://stackoverflow.com/a/49584888\n",
    "indices = [i for i, c in enumerate(df.columns) if not c.startswith('Unnamed')]\n",
    "slices = [slice(i, j) for i, j in zip(indices, indices[1:] + [None])]\n",
    "repeats = [len(range(*slice.indices(len(df.columns)))) for slice in slices]"
   ]
  },
  {
   "cell_type": "code",
   "execution_count": null,
   "metadata": {},
   "outputs": [],
   "source": [
    "# Now let's grab all of the questions and each of the options provided as possible responses.\n",
    "questions = [c for c in df.columns if not c.startswith('Unnamed')]\n",
    "options = df.iloc[:1].values[0].tolist()\n",
    "\n",
    "# We can pair each possible response with its associated question...\n",
    "matched_questions = []\n",
    "for index, question in enumerate(questions):\n",
    "    matched_questions += [question] * repeats[index]\n",
    "\n",
    "# ... and create a new dataframe named 'responses' that correctly pairs questions and responses.\n",
    "index = pd.MultiIndex.from_arrays([matched_questions, options],\n",
    "                                  names=('question', 'options'))\n",
    "data = df.iloc[2:].values\n",
    "responses = pd.DataFrame(data=data, columns=index)"
   ]
  },
  {
   "cell_type": "code",
   "execution_count": null,
   "metadata": {},
   "outputs": [],
   "source": [
    "# Optional data cleaning -- remove 'Other' responses for easier plotting.\n",
    "responses.drop('Other (please specify)',\n",
    "               axis=1, level=1, inplace=True)"
   ]
  },
  {
   "cell_type": "code",
   "execution_count": null,
   "metadata": {},
   "outputs": [],
   "source": [
    "# First question of interest --\n",
    "responses['Should OHBM have an official publishing platform?',\n",
    "          'Response'].value_counts(normalize=True)"
   ]
  },
  {
   "cell_type": "code",
   "execution_count": null,
   "metadata": {},
   "outputs": [],
   "source": [
    "# What are respondents willing to pay to sustain Aperture ?\n",
    "price_per_sub = pd.to_numeric(responses['Per submission:',\n",
    "                                        'Open-Ended Response']).mean()\n",
    "price_per_pub = pd.to_numeric(responses['Per publication:',\n",
    "                                        'Open-Ended Response']).mean()\n",
    "\n",
    "print('On average, respondents were willing to pay ${:.0f} per submission to Aperture.'.format(price_per_sub))\n",
    "print('They also indicated they would pay an additional ${:.0f} to publish in Aperture.'.format(price_per_pub))"
   ]
  },
  {
   "cell_type": "code",
   "execution_count": null,
   "metadata": {},
   "outputs": [],
   "source": []
  },
  {
   "cell_type": "code",
   "execution_count": null,
   "metadata": {},
   "outputs": [],
   "source": []
  },
  {
   "cell_type": "code",
   "execution_count": null,
   "metadata": {},
   "outputs": [],
   "source": []
  }
 ],
 "metadata": {
  "kernelspec": {
   "display_name": "Python 3",
   "language": "python",
   "name": "python3"
  },
  "language_info": {
   "codemirror_mode": {
    "name": "ipython",
    "version": 3
   },
   "file_extension": ".py",
   "mimetype": "text/x-python",
   "name": "python",
   "nbconvert_exporter": "python",
   "pygments_lexer": "ipython3",
   "version": "3.6.8"
  }
 },
 "nbformat": 4,
 "nbformat_minor": 2
}
